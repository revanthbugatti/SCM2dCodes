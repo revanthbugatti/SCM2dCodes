{
 "cells": [
  {
   "cell_type": "code",
   "execution_count": 1,
   "metadata": {},
   "outputs": [],
   "source": [
    "import pandas as pd\n",
    "import numpy as np\n",
    "from rectpack import newPacker\n",
    "import rectpack.packer as packer\n",
    "import matplotlib.pyplot as plt\n",
    "\n",
    "# Initialize Model Parameters\n",
    "\n",
    "#-- Pallet Dimensions: 80 x 120 cm european\n",
    "bx = 5 # Buffer x\n",
    "by = 5 # Buffer y\n",
    "pal_812 = [80 + bx, 120 + by]\n",
    "#-- Pallet Dimensions: 100 x 120 cm american\n",
    "bx = 5 # Buffer x\n",
    "by = 5 # Buffer y\n",
    "pal_1012 = [100 + bx, 120 + by]\n",
    "\n",
    "# Container size inner in centimetres\n",
    "bins20 = [(235, 590)] # 20' Container\n",
    "bins40 = [(235, 1203)] # 40' Container\n"
   ]
  },
  {
   "cell_type": "code",
   "execution_count": 9,
   "metadata": {},
   "outputs": [],
   "source": [
    "def solver(n_812, n_1012, bins):\n",
    "    # Pallets to load\n",
    "    rectangles = [pal_812 for i in range(n_812)] + [pal_1012 for i in range(n_1012)]\n",
    "    \n",
    "    # Build the Packer\n",
    "    pack = newPacker()\n",
    "\n",
    "    # Add the rectangles to packing queue\n",
    "    for r in rectangles:\n",
    "        pack.add_rect(*r)\n",
    "\n",
    "    # Add the bins where the rectangles will be placed\n",
    "    for b in bins:\n",
    "        pack.add_bin(*b)\n",
    "\n",
    "    # Start packing\n",
    "    pack.pack()\n",
    "    \n",
    "    # Full rectangle list with coordinates\n",
    "    all_rects = pack.rect_list()\n",
    "\n",
    "    # Pallets with dimensions\n",
    "    all_pals = [sorted([p[3], p[4]]) for p in all_rects]\n",
    "\n",
    "    # Count number of 80 x 120 / of 100 x 120\n",
    "    p_812, p_1012 = all_pals.count(pal_812), all_pals.count(pal_1012)\n",
    "    print(\"{:,}/{:,} Pallets 80 x 120 (cm) | {:,}/{:,} Pallets 100 x 120 (cm)\".format(p_812, n_812, p_1012, n_1012))\n",
    "    \n",
    "    return all_rects, all_pals"
   ]
  },
  {
   "cell_type": "code",
   "execution_count": 3,
   "metadata": {},
   "outputs": [],
   "source": [
    "def plot_solution(all_rects, pal_812, pal_1012):\n",
    "    # Plot\n",
    "    plt.figure(figsize=(10,10))\n",
    "    # Loop all rect\n",
    "    for rect in all_rects:\n",
    "        b, x, y, w, h, rid = rect\n",
    "        x1, x2, x3, x4, x5 = x, x+w, x+w, x, x\n",
    "        y1, y2, y3, y4, y5 = y, y, y+h, y+h,y\n",
    "\n",
    "        # Pallet type\n",
    "        if [w, h] == pal_812:\n",
    "            color = '--k'\n",
    "        else:\n",
    "            color = '--r'\n",
    "\n",
    "        plt.plot([x1,x2,x3,x4,x5],[y1,y2,y3,y4,y5], color)\n",
    "    \n",
    "    plt.show()"
   ]
  },
  {
   "cell_type": "code",
   "execution_count": 8,
   "metadata": {},
   "outputs": [
    {
     "name": "stdout",
     "output_type": "stream",
     "text": [
      "0/23 Pallets 80 x 120 (cm) | 9/23 Pallets 100 x 120 (cm)\n"
     ]
    },
    {
     "data": {
      "image/png": "[encoded data removed]",
      "text/plain": [
       "<Figure size 720x720 with 1 Axes>"
      ]
     },
     "metadata": {
      "needs_background": "light"
     },
     "output_type": "display_data"
    },
    {
     "ename": "TypeError",
     "evalue": "'module' object is not iterable",
     "output_type": "error",
     "traceback": [
      "\u001b[1;31m---------------------------------------------------------------------------\u001b[0m",
      "\u001b[1;31mTypeError\u001b[0m                                 Traceback (most recent call last)",
      "\u001b[1;32m<ipython-input-8-5365d04f8089>\u001b[0m in \u001b[0;36m<module>\u001b[1;34m\u001b[0m\n\u001b[0;32m      4\u001b[0m \u001b[0mall_rects\u001b[0m\u001b[1;33m,\u001b[0m \u001b[0mall_pals\u001b[0m \u001b[1;33m=\u001b[0m \u001b[0msolver\u001b[0m\u001b[1;33m(\u001b[0m\u001b[0mn_812\u001b[0m\u001b[1;33m,\u001b[0m \u001b[0mn_1012\u001b[0m\u001b[1;33m,\u001b[0m \u001b[0mbins20\u001b[0m\u001b[1;33m)\u001b[0m\u001b[1;33m\u001b[0m\u001b[1;33m\u001b[0m\u001b[0m\n\u001b[0;32m      5\u001b[0m \u001b[0mplot_solution\u001b[0m\u001b[1;33m(\u001b[0m\u001b[0mall_rects\u001b[0m\u001b[1;33m,\u001b[0m \u001b[0mpal_812\u001b[0m\u001b[1;33m,\u001b[0m \u001b[0mpal_1012\u001b[0m\u001b[1;33m)\u001b[0m\u001b[1;33m\u001b[0m\u001b[1;33m\u001b[0m\u001b[0m\n\u001b[1;32m----> 6\u001b[1;33m \u001b[1;32mfor\u001b[0m \u001b[0mabin\u001b[0m \u001b[1;32min\u001b[0m \u001b[0mpacker\u001b[0m\u001b[1;33m:\u001b[0m\u001b[1;33m\u001b[0m\u001b[1;33m\u001b[0m\u001b[0m\n\u001b[0m\u001b[0;32m      7\u001b[0m   \u001b[0mprint\u001b[0m\u001b[1;33m(\u001b[0m\u001b[0mabin\u001b[0m\u001b[1;33m.\u001b[0m\u001b[0mbid\u001b[0m\u001b[1;33m)\u001b[0m \u001b[1;31m# Bin id if it has one\u001b[0m\u001b[1;33m\u001b[0m\u001b[1;33m\u001b[0m\u001b[0m\n\u001b[0;32m      8\u001b[0m   \u001b[1;32mfor\u001b[0m \u001b[0mrect\u001b[0m \u001b[1;32min\u001b[0m \u001b[0mabin\u001b[0m\u001b[1;33m:\u001b[0m\u001b[1;33m\u001b[0m\u001b[1;33m\u001b[0m\u001b[0m\n",
      "\u001b[1;31mTypeError\u001b[0m: 'module' object is not iterable"
     ]
    }
   ],
   "source": [
    "# Test 1\n",
    "n_812 = 23\n",
    "n_1012 = 23\n",
    "all_rects, all_pals = solver(n_812, n_1012, bins20)\n",
    "plot_solution(all_rects, pal_812, pal_1012)\n",
    "for abin in packer:\n",
    "  print(abin.bid) # Bin id if it has one\n",
    "  for rect in abin:\n",
    "    print(rect)"
   ]
  }
 ],
 "metadata": {
  "interpreter": {
   "hash": "2a7caabd2a3d4fb3870cbc92eeac910e7b58f7329b17d2698ebbf9e2b72b374a"
  },
  "kernelspec": {
   "display_name": "Python 3.8.8 64-bit ('base': conda)",
   "name": "python3"
  },
  "language_info": {
   "codemirror_mode": {
    "name": "ipython",
    "version": 3
   },
   "file_extension": ".py",
   "mimetype": "text/x-python",
   "name": "python",
   "nbconvert_exporter": "python",
   "pygments_lexer": "ipython3",
   "version": "3.8.8"
  },
  "orig_nbformat": 4
 },
 "nbformat": 4,
 "nbformat_minor": 2
}
