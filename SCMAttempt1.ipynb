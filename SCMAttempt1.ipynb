{
 "cells": [
  {
   "cell_type": "code",
   "execution_count": 57,
   "metadata": {},
   "outputs": [
    {
     "name": "stdout",
     "output_type": "stream",
     "text": [
      "[(85, 125), (85, 125), (105, 125), (85, 125), (85, 125), (105, 125), (85, 125), (85, 125), (105, 125), (85, 125), (85, 125), (105, 125), (85, 125), (85, 125), (105, 125), (85, 125), (85, 125), (105, 125), (85, 125), (85, 125), (105, 125), (85, 125), (85, 125), (105, 125), (85, 125), (85, 125), (105, 125), (85, 125), (85, 125), (105, 125), (85, 125), (85, 125), (105, 125), (85, 125), (85, 125), (105, 125), (85, 125), (85, 125), (105, 125)]\n"
     ]
    }
   ],
   "source": [
    "from rectpack import newPacker\n",
    "\n",
    "rectangle1 = [(85,125),(85,125)]\n",
    "rectangle2 = [(105,125)]\n",
    "rectangle11 = [85,125]\n",
    "rectangle22 = [105,125]\n",
    "rectangles = (rectangle1+rectangle2)*13\n",
    "print(rectangles)\n",
    "bins = [(235, 590),(235, 1203)]\n",
    "\n",
    "packer = newPacker()\n",
    "Counterrect = 1\n",
    "# Add the rectangles to packing queue\n",
    "for r in rectangles:\n",
    "\tpacker.add_rect(*r,Counterrect)\n",
    "\tCounterrect = Counterrect+1\n",
    "Counterbins = 1\n",
    "# Add the bins where the rectangles will be placed\n",
    "for b in bins:\n",
    "\tpacker.add_bin(*b,count=float(\"inf\"))\n",
    "\tCounterbins = Counterbins+1\n",
    "\n",
    "# Start packing\n",
    "packer.pack()"
   ]
  },
  {
   "cell_type": "code",
   "execution_count": 58,
   "metadata": {},
   "outputs": [
    {
     "name": "stdout",
     "output_type": "stream",
     "text": [
      "[(0, 0, 0, 125, 105, 3), (0, 125, 0, 105, 125, 6), (0, 0, 105, 125, 105, 9), (0, 125, 125, 105, 125, 12), (0, 0, 210, 125, 105, 15), (0, 125, 250, 105, 125, 18), (0, 0, 315, 125, 105, 21), (0, 125, 375, 105, 125, 24), (0, 0, 420, 125, 105, 27), (1, 0, 0, 125, 105, 30), (1, 125, 0, 105, 125, 33), (1, 0, 105, 125, 105, 36), (1, 125, 125, 105, 125, 39), (1, 0, 210, 125, 85, 1), (1, 125, 250, 85, 125, 2), (1, 0, 295, 125, 85, 4), (1, 125, 375, 85, 125, 5), (1, 0, 380, 125, 85, 7), (1, 0, 465, 85, 125, 8), (1, 85, 500, 125, 85, 10), (2, 0, 0, 125, 85, 11), (2, 125, 0, 85, 125, 13), (2, 0, 85, 125, 85, 14), (2, 125, 125, 85, 125, 16), (2, 0, 170, 125, 85, 17), (2, 125, 250, 85, 125, 19), (2, 0, 255, 125, 85, 20), (2, 0, 340, 125, 85, 22), (2, 125, 375, 85, 125, 23), (2, 0, 425, 125, 85, 25), (3, 0, 0, 125, 85, 26), (3, 125, 0, 85, 125, 28), (3, 0, 85, 125, 85, 29), (3, 125, 125, 85, 125, 31), (3, 0, 170, 125, 85, 32), (3, 125, 250, 85, 125, 34), (3, 0, 255, 125, 85, 35), (3, 0, 340, 125, 85, 37), (3, 125, 375, 85, 125, 38)]\n",
      "[[105, 125], [105, 125], [105, 125], [105, 125], [105, 125], [105, 125], [105, 125], [105, 125], [105, 125], [105, 125], [105, 125], [105, 125], [105, 125], [85, 125], [85, 125], [85, 125], [85, 125], [85, 125], [85, 125], [85, 125], [85, 125], [85, 125], [85, 125], [85, 125], [85, 125], [85, 125], [85, 125], [85, 125], [85, 125], [85, 125], [85, 125], [85, 125], [85, 125], [85, 125], [85, 125], [85, 125], [85, 125], [85, 125], [85, 125]]\n",
      "26/100 Pallets 80 x 120 (cm) | 13/100 Pallets 100 x 120 (cm)\n"
     ]
    }
   ],
   "source": [
    "# Full rectangle list with coordinates\n",
    "all_rects = packer.rect_list()\n",
    "print(all_rects)\n",
    "# Pallets with dimensions\n",
    "all_pals = [sorted([p[3], p[4]]) for p in all_rects]\n",
    "print(all_pals)\n",
    "\n",
    "# Count number of 80 x 120 / of 100 x 120\n",
    "p_812, p_1012 = all_pals.count(rectangle11), all_pals.count(rectangle22)\n",
    "print(\"{:,}/{:,} Pallets 80 x 120 (cm) | {:,}/{:,} Pallets 100 x 120 (cm)\".format(p_812, 100, p_1012, 100))"
   ]
  },
  {
   "cell_type": "code",
   "execution_count": 54,
   "metadata": {},
   "outputs": [],
   "source": [
    "#for abin in packer:\n",
    "  #print(abin.bid) # Bin id if it has one\n",
    "  #for rect in abin:\n",
    "    #print(rect)"
   ]
  }
 ],
 "metadata": {
  "interpreter": {
   "hash": "2a7caabd2a3d4fb3870cbc92eeac910e7b58f7329b17d2698ebbf9e2b72b374a"
  },
  "kernelspec": {
   "display_name": "Python 3.8.8 64-bit ('base': conda)",
   "name": "python3"
  },
  "language_info": {
   "codemirror_mode": {
    "name": "ipython",
    "version": 3
   },
   "file_extension": ".py",
   "mimetype": "text/x-python",
   "name": "python",
   "nbconvert_exporter": "python",
   "pygments_lexer": "ipython3",
   "version": "3.8.8"
  },
  "orig_nbformat": 4
 },
 "nbformat": 4,
 "nbformat_minor": 2
}
