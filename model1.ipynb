{
 "cells": [
  {
   "cell_type": "code",
   "execution_count": null,
   "metadata": {},
   "outputs": [],
   "source": [
    "from rectpack import *\n",
    "from rectpack import newPacker\n",
    "\n",
    "#Added a buffer of 5cm for each container. All the given values are in centimetres\n",
    "pallet1 = [(85,125)] #European Pallet\n",
    "pallet2 = [(105,125)] #American Pallet\n",
    "pallet11 = [85,125]\n",
    "pallet22 = [105,125]\n",
    "pallets = (pallet1)*12+(pallet2)*13\n",
    "print(pallets)\n",
    "bins = [(235, 590),(235,1203)]#20' and 40' standard containers\n",
    "packer = newPacker(bin_algo=PackingBin.Global)\n",
    "\n",
    "# Add the rectangles to packing queue\n",
    "for i,r in enumerate(pallets):\n",
    "\tpacker.add_rect(*r,rid=i)\n",
    "# Add the containers where the pallets will be placed\n",
    "for i, b, in enumerate(bins):\n",
    "\tpacker.add_bin(*b,bid=i)\n",
    "# Start packing\n",
    "packer.pack()"
   ]
  },
  {
   "cell_type": "code",
   "execution_count": null,
   "metadata": {},
   "outputs": [],
   "source": [
    "import matplotlib.pyplot as plt\n",
    "from matplotlib.patches import Rectangle\n",
    "from collections import*\n",
    "from rectpack import newPacker\n",
    "from pandas import*\n",
    "from numpy import*\n",
    "%matplotlib inline\n",
    "\n",
    "def draw_result(packer):\n",
    "    #Screen size\n",
    "    fig = plt.figure(figsize=(10,10))\n",
    "    plt.box(False)\n",
    "    plt.axis('off')\n",
    "    plt.title('Bin Selection Heuristic - Bin Packing Global')\n",
    "    for i, abin in enumerate(packer,1):\n",
    "        ax = fig.add_subplot(1, len(packer), i,aspect='equal',anchor='SE')\n",
    "        \n",
    "        #Draw the container.\n",
    "        ax.add_patch(Rectangle((0,0), abin.width, abin.height,fc=\"none\", ec=\"g\", lw=2, zorder=10))\n",
    "        for r in abin:\n",
    "            #Draw a box.\n",
    "            ax.add_patch(Rectangle((r.x, r.y), r.width, r.height, fc=\"lightblue\", ec=\"k\"))\n",
    "            cx, cy = r.x + r.width / 2, r.y + r.height / 2\n",
    "            if r.width+r.height == 230:\n",
    "                s = str(r.rid)+\"\\nP2\"\n",
    "            else:\n",
    "                s = str(r.rid)+\"\\nP1\"\n",
    "            ax.text(cx, cy, s, ha =\"center\",va=\"center\", color=\"k\", fontsize=14)\n",
    "            ax.relim()\n",
    "            ax.autoscale_view()\n",
    "draw_result(packer)\n"
   ]
  }
 ],
 "metadata": {
  "interpreter": {
   "hash": "2a7caabd2a3d4fb3870cbc92eeac910e7b58f7329b17d2698ebbf9e2b72b374a"
  },
  "kernelspec": {
   "display_name": "Python 3.8.8 64-bit ('base': conda)",
   "name": "python3"
  },
  "language_info": {
   "codemirror_mode": {
    "name": "ipython",
    "version": 3
   },
   "file_extension": ".py",
   "mimetype": "text/x-python",
   "name": "python",
   "nbconvert_exporter": "python",
   "pygments_lexer": "ipython3",
   "version": "3.8.8"
  },
  "orig_nbformat": 4
 },
 "nbformat": 4,
 "nbformat_minor": 2
}
